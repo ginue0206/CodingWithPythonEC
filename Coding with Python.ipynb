{
 "cells": [
  {
   "cell_type": "markdown",
   "metadata": {},
   "source": [
    "# Coding with Python\n",
    "## Part 1\n",
    "### Task 1\n",
    "The Jupyter Notebook I chose is called \"Learning to Code with Python\". I chose this because I thought it was a great interactive way to learn to code because they had explanations in plain text and the example code in a different cell that you could edit or run to see how it works. [Learning to Code with Python](https://nbviewer.jupyter.org/urls/bitbucket.org/amjoconn/watpy-learning-to-code-with-python/raw/3441274a54c7ff6ff3e37285aafcbbd8cb4774f0/notebook/Learn%20to%20Code%20with%20Python.ipynb)\n",
    "\n",
    "\n"
   ]
  },
  {
   "cell_type": "markdown",
   "metadata": {},
   "source": [
    "### Task 2\n",
    "\n",
    "A)\n",
    "One of the most widely used python packages would be the **Python Standard Library** because it already comes with Python when you install it. But it comes with many import math, data, file, etc modules and functions that are essential to using Python. Some modules I see often when going through Python tutorials are the *math* and *random* modules. The math module contains math functions like .exp() and the random module contains functions that lets you randomize selections like .randrange(). [The Python Standard Libarary Link](https://docs.python.org/3/library/)\n",
    "\n",
    "Another popular library is **Requests** which is is a http library. It allows you to send HTTP requests without the need to manually add query strings to URLs or to form-encode POST data. It has chunked requests, HTTP proxy support, .netrc support, etc. [Requests Link](http://www.python-requests.org/en/master/)\n",
    "\n",
    "B)\n",
    "**Matplotlib** is a python library that is similar to ggplot because you can graph scatter plots, bar charts, line charts, and much more. [Matplotlib](https://matplotlib.org/)\n",
    "\n",
    "C)\n",
    "**Pandas** is a library contains a large amount of funtions to operate on dataframes. It supports data manipulation, reading and writing data, slicing, indexing, joining, etc. [Pandas Link](https://pandas.pydata.org/)\n",
    "\n"
   ]
  },
  {
   "cell_type": "markdown",
   "metadata": {},
   "source": [
    "### Task 3\n",
    "I small difference between them is how they assign values to variables. In R, you would use <- whereas in Python, you would use = as the assignment operator. For importing libraries/modules in R, you would use install.packages(x) and then library(x) to use it but in Python you would use import to use a library. Another difference is functions. For R, you create the function using function() but you store it to a variable. For Python, you use def and then name the function and add the rest of it. "
   ]
  },
  {
   "cell_type": "markdown",
   "metadata": {},
   "source": [
    "## Part 2 Strings and Basic Syntax\n",
    "### Task 4\n"
   ]
  },
  {
   "cell_type": "code",
   "execution_count": 48,
   "metadata": {},
   "outputs": [
    {
     "name": "stdout",
     "output_type": "stream",
     "text": [
      "chicken is tasty\n"
     ]
    }
   ],
   "source": [
    "a = \"chicken\"\n",
    "b = \"is\"\n",
    "c = \"tasty\"\n",
    "\n",
    "print(a + \" \" + b + \" \" +c)"
   ]
  },
  {
   "cell_type": "markdown",
   "metadata": {},
   "source": [
    "### Task 5"
   ]
  },
  {
   "cell_type": "code",
   "execution_count": 49,
   "metadata": {},
   "outputs": [
    {
     "name": "stdout",
     "output_type": "stream",
     "text": [
      "CHICKEN IS TASTY 5\n"
     ]
    }
   ],
   "source": [
    "d = str(5)\n",
    "print(a.upper() + \" \" + b.upper() + \" \" + c.upper() + \" \"  + d)"
   ]
  },
  {
   "cell_type": "markdown",
   "metadata": {},
   "source": [
    "### Task 6"
   ]
  },
  {
   "cell_type": "code",
   "execution_count": 50,
   "metadata": {},
   "outputs": [
    {
     "name": "stdout",
     "output_type": "stream",
     "text": [
      "chicken is tasty 5\n",
      "2\n",
      "0\n"
     ]
    }
   ],
   "source": [
    "str_list = [a,b,c,d]\n",
    "\n",
    "new_sentence = str_list[0] + ' ' + str_list[1] + ' ' + str_list[2] + ' ' + str_list[3]\n",
    "print(new_sentence)\n",
    "print(new_sentence.count(\"i\"))\n",
    "print(new_sentence.find(\"c\"))"
   ]
  },
  {
   "cell_type": "markdown",
   "metadata": {},
   "source": [
    "### Task 7"
   ]
  },
  {
   "cell_type": "code",
   "execution_count": 51,
   "metadata": {},
   "outputs": [
    {
     "name": "stdout",
     "output_type": "stream",
     "text": [
      "chicken i\n"
     ]
    }
   ],
   "source": [
    "print(new_sentence[0:9])"
   ]
  },
  {
   "cell_type": "markdown",
   "metadata": {},
   "source": [
    "### Task 8"
   ]
  },
  {
   "cell_type": "code",
   "execution_count": 52,
   "metadata": {},
   "outputs": [
    {
     "name": "stdout",
     "output_type": "stream",
     "text": [
      "chicken is tasty \n",
      "chicben is tasty 5\n"
     ]
    }
   ],
   "source": [
    "print(new_sentence.strip('5'))\n",
    "print(new_sentence.replace('k', 'b'))"
   ]
  },
  {
   "cell_type": "markdown",
   "metadata": {},
   "source": [
    "### Task 9"
   ]
  },
  {
   "cell_type": "code",
   "execution_count": 53,
   "metadata": {},
   "outputs": [
    {
     "name": "stdout",
     "output_type": "stream",
     "text": [
      "['chicken', 'z', 'is', 'tasty', '5']\n"
     ]
    }
   ],
   "source": [
    "new_list = new_sentence.split()\n",
    "new_list.insert(1,'z')\n",
    "print(new_list)\n"
   ]
  },
  {
   "cell_type": "markdown",
   "metadata": {},
   "source": [
    "## Part 3 Conditionals\n",
    "### Task 10"
   ]
  },
  {
   "cell_type": "code",
   "execution_count": 54,
   "metadata": {},
   "outputs": [
    {
     "name": "stdout",
     "output_type": "stream",
     "text": [
      "27\n",
      "2nd Quartile\n"
     ]
    }
   ],
   "source": [
    "import random \n",
    "rand_numb = random.randint(1,100)\n",
    "print rand_numb\n",
    "if rand_numb <= 25:\n",
    "    print(\"1st Quartile\")\n",
    "elif rand_numb > 25 and rand_numb <= 50:\n",
    "    print(\"2nd Quartile\")\n",
    "elif rand_numb > 50 and rand_numb <= 75:\n",
    "    print(\"3rd Quartile\")\n",
    "else:\n",
    "    print(\"4th Quartile\")"
   ]
  },
  {
   "cell_type": "markdown",
   "metadata": {},
   "source": [
    "## Part 4 Loops\n",
    "### Task 11"
   ]
  },
  {
   "cell_type": "code",
   "execution_count": 55,
   "metadata": {},
   "outputs": [
    {
     "name": "stdout",
     "output_type": "stream",
     "text": [
      "Warning, residents of Buffalo, temperatures will reach sub-zero temperatures today, please stay indoors if possible\n",
      "Warning, residents of Seattle, temperatures will reach sub-zero temperatures today, please stay indoors if possible\n",
      "Warning, residents of Seoul, temperatures will reach sub-zero temperatures today, please stay indoors if possible\n",
      "Warning, residents of Tokyo, temperatures will reach sub-zero temperatures today, please stay indoors if possible\n",
      "Warning, residents of Paris, temperatures will reach sub-zero temperatures today, please stay indoors if possible\n",
      "Warning, residents of Rome, temperatures will reach sub-zero temperatures today, please stay indoors if possible\n"
     ]
    }
   ],
   "source": [
    "cities_list = [\"Buffalo\", \"Seattle\", \"Seoul\", \"Tokyo\", \"Paris\", \"Rome\"]\n",
    "for city in cities_list:\n",
    "    print(\"Warning, residents of \" + city + \", temperatures will reach sub-zero temperatures today, please stay indoors if possible\")"
   ]
  },
  {
   "cell_type": "markdown",
   "metadata": {},
   "source": [
    "### Task 12"
   ]
  },
  {
   "cell_type": "code",
   "execution_count": 56,
   "metadata": {},
   "outputs": [
    {
     "name": "stdout",
     "output_type": "stream",
     "text": [
      "U://Users/Zhang/Geog_458/Washington.shp\n",
      "U://Users/Zhang/Geog_458/California.shp\n",
      "U://Users/Zhang/Geog_458/Nevada.shp\n",
      "U://Users/Zhang/Geog_458/Idaho.shp\n",
      "U://Users/Zhang/Geog_458/Montana.shp\n",
      "U://Users/Zhang/Geog_458/Utah.shp\n",
      "U://Users/Zhang/Geog_458/Colorado.shp\n",
      "U://Users/Zhang/Geog_458/New Mexico.shp\n",
      "results list: ['U://Users/Zhang/Geog_458/Washington.shp', 'U://Users/Zhang/Geog_458/California.shp', 'U://Users/Zhang/Geog_458/Nevada.shp', 'U://Users/Zhang/Geog_458/Idaho.shp', 'U://Users/Zhang/Geog_458/Montana.shp', 'U://Users/Zhang/Geog_458/Utah.shp', 'U://Users/Zhang/Geog_458/Colorado.shp', 'U://Users/Zhang/Geog_458/New Mexico.shp']\n"
     ]
    }
   ],
   "source": [
    "results_list =[]\n",
    "states_list = [\"Washington\", \"California\", \"Nevada\", \"Idaho\", \"Montana\", \"Utah\", \"Colorado\", \"New Mexico\"]\n",
    "for state in states_list:\n",
    "    file_path = \"U://Users/Zhang/Geog_458/\" + state + \".shp\"\n",
    "    results_list.append(file_path)\n",
    "    print(file_path)\n",
    "print(\"results list: \" + str(results_list))"
   ]
  },
  {
   "cell_type": "markdown",
   "metadata": {},
   "source": [
    "### Task 13"
   ]
  },
  {
   "cell_type": "code",
   "execution_count": 57,
   "metadata": {},
   "outputs": [
    {
     "name": "stdout",
     "output_type": "stream",
     "text": [
      "T-minus 10\n",
      "T-minus 9\n",
      "T-minus 8\n",
      "T-minus 7\n",
      "T-minus 6\n",
      "T-minus 5\n",
      "T-minus 4\n",
      "T-minus 3\n",
      "T-minus 2\n",
      "T-minus 1\n",
      "T-minus 0\n"
     ]
    }
   ],
   "source": [
    "counter = 10\n",
    "while counter >= 0:\n",
    "    print(\"T-minus \" + str(counter))\n",
    "    counter -= 1\n",
    "    "
   ]
  },
  {
   "cell_type": "markdown",
   "metadata": {},
   "source": [
    "## Part 5 Functions\n",
    "### Task 13"
   ]
  },
  {
   "cell_type": "code",
   "execution_count": 58,
   "metadata": {},
   "outputs": [
    {
     "name": "stdout",
     "output_type": "stream",
     "text": [
      "T-minus 20\n",
      "T-minus 19\n",
      "T-minus 18\n",
      "T-minus 17\n",
      "T-minus 16\n",
      "T-minus 15\n",
      "T-minus 14\n",
      "T-minus 13\n",
      "T-minus 12\n",
      "T-minus 11\n",
      "T-minus 10\n",
      "T-minus 9\n",
      "T-minus 8\n",
      "T-minus 7\n",
      "T-minus 6\n",
      "T-minus 5\n",
      "T-minus 4\n",
      "T-minus 3\n",
      "T-minus 2\n",
      "T-minus 1\n",
      "T-minus 0\n"
     ]
    }
   ],
   "source": [
    "def countdown(numb):\n",
    "    counter = numb\n",
    "    while counter >= 0:\n",
    "        print(\"T-minus \" + str(counter))\n",
    "        counter -= 1\n",
    "        \n",
    "countdown(20)"
   ]
  },
  {
   "cell_type": "markdown",
   "metadata": {},
   "source": [
    "### Task 14"
   ]
  },
  {
   "cell_type": "code",
   "execution_count": 59,
   "metadata": {},
   "outputs": [
    {
     "name": "stdout",
     "output_type": "stream",
     "text": [
      "25\n",
      "1st Quartile\n"
     ]
    }
   ],
   "source": [
    "def what_quartile(numb):\n",
    "    print(numb)\n",
    "    if numb >= 0 and numb <= 25:\n",
    "        print(\"1st Quartile\")\n",
    "    elif numb > 25 and numb <= 50:\n",
    "        print(\"2nd Quartile\")\n",
    "    elif numb > 50 and numb <= 75:\n",
    "        print(\"3rd Quartile\")\n",
    "    elif numb > 75 and numb <= 100:\n",
    "        print(\"4th Quartile\")\n",
    "    else:\n",
    "        print(\"Error\")\n",
    "\n",
    "what_quartile(25)"
   ]
  },
  {
   "cell_type": "code",
   "execution_count": null,
   "metadata": {},
   "outputs": [],
   "source": []
  }
 ],
 "metadata": {
  "kernelspec": {
   "display_name": "Python 2",
   "language": "python",
   "name": "python2"
  },
  "language_info": {
   "codemirror_mode": {
    "name": "ipython",
    "version": 2
   },
   "file_extension": ".py",
   "mimetype": "text/x-python",
   "name": "python",
   "nbconvert_exporter": "python",
   "pygments_lexer": "ipython2",
   "version": "2.7.15"
  }
 },
 "nbformat": 4,
 "nbformat_minor": 2
}
